{
 "cells": [
  {
   "cell_type": "markdown",
   "id": "41551886",
   "metadata": {},
   "source": [
    "# Simultaneous Equations with SymPy\n",
    "Once simultaneous equations are a relevant issue for Empirical Industrial Organization, this notebook provides a nice Python tool for solving them: `SymPy`.\n",
    "\n",
    "All code in this notebook was reproduced from here: (https://reliability.readthedocs.io/en/latest/Solving%20simultaneous%20equations%20with%20sympy.html).\n",
    "\n",
    "## 1 Introduction to SymPy\n",
    "`SymPy` is a Python library for symbolic mathematics. All the official documentation (and nice tutorials) can be found <a href=\"https://docs.sympy.org/latest/index.html\" target=\"_blank\">here</a>. Also, for a gentle introduction to the basic calculations, you should check <a href=\"https://www.youtube.com/watch?v=j9Ps76MFbOE\">this video</a>.\n",
    "\n",
    "One really nice module from `SymPy` is `Solve`."
   ]
  },
  {
   "cell_type": "code",
   "execution_count": 4,
   "id": "88112c76",
   "metadata": {},
   "outputs": [
    {
     "data": {
      "text/plain": [
       "[-1, 1]"
      ]
     },
     "execution_count": 4,
     "metadata": {},
     "output_type": "execute_result"
    }
   ],
   "source": [
    "import sympy as sym\n",
    "from sympy.solvers import solve\n",
    "from sympy import Symbol\n",
    "x = Symbol('x')\n",
    "solve(x**2 - 1,x)"
   ]
  },
  {
   "cell_type": "markdown",
   "id": "71e0a7dc",
   "metadata": {},
   "source": [
    "Here, we're telling `solve` to solve the equation $x^2 - 1 = 0$, or simply $x^2 = 1$. That is because, by default, solve assumes the provided function as being equal to zero. The output is an array with all possible solutions.\n",
    "\n",
    "## 2 Simultaneous Equations\n",
    "Back to our main goal here, which are simultaneous equations, the following subsections provide a few examples of how `SymPy` would proceed to solve them.\n",
    "\n",
    "### 2.1 Example 1\n",
    "We have the following equations:\n",
    "$$\\text{Eq. 1:} \\;\\;\\; x+y = 5$$\n",
    "$$\\text{Eq. 2:} \\;\\;\\; x^2+y^2 = 17$$\n",
    "Let's solve this system with `SymPy`."
   ]
  },
  {
   "cell_type": "code",
   "execution_count": 5,
   "id": "45b34955",
   "metadata": {},
   "outputs": [
    {
     "name": "stdout",
     "output_type": "stream",
     "text": [
      "[(1, 4), (4, 1)]\n"
     ]
    }
   ],
   "source": [
    "x,y = sym.symbols('x,y') #specifying our variables of interest\n",
    "eq1 = sym.Eq(x+y,5) #specifying eq 1\n",
    "eq2 = sym.Eq(x**2+y**2,17) #specifying eq 2\n",
    "\n",
    "#note: we're informing an array of 2 equations [eq1,eq2], and demanding solution for 2 variables, (x,y)\n",
    "result = sym.solve([eq1,eq2],(x,y))\n",
    "print(result)"
   ]
  },
  {
   "cell_type": "markdown",
   "id": "e70f000d",
   "metadata": {},
   "source": [
    "Hence, our possible solutions for ($x,y$) are $[(1,4),(4,1)]$. In particular, this case has 2 solutions because the equations represent a line passing through a circle.\n",
    "\n",
    "### 2.2 Example 2\n",
    "We have the following equations:\n",
    "$$\\text{Eq 1:}\\;\\;\\; a \\cdot 1000000^b=119.54907$$\n",
    "$$\\text{Eq 2:}\\;\\;\\; a \\cdot 1000^b=405$$\n",
    "\n",
    "Let's solve this system with `SymPy`."
   ]
  },
  {
   "cell_type": "code",
   "execution_count": 6,
   "id": "4c73420f",
   "metadata": {},
   "outputs": [
    {
     "name": "stdout",
     "output_type": "stream",
     "text": [
      "[(1372.03074854535, -0.176636273742481), (1372.03074854535, -0.176636273742481 - 0.909584235894561*I), (1372.03074854535, -0.176636273742481 + 0.909584235894561*I)]\n"
     ]
    }
   ],
   "source": [
    "a,b = sym.symbols('a,b')\n",
    "eq1 = sym.Eq(a*1000000**b,119.54907)\n",
    "eq2 = sym.Eq(a*1000**b,405)\n",
    "result = sym.solve([eq1,eq2],(a,b))\n",
    "print(result)"
   ]
  },
  {
   "cell_type": "markdown",
   "id": "1d703fdb",
   "metadata": {},
   "source": [
    "We note that there are 3 solutions for our system, but once the last 2 involve that $*I$ (maybe imaginary numbers), we stick to the first one only, saying that this is our unique solution.\n",
    "\n",
    "### 2.3 Example 3\n",
    "We have the following equations:\n",
    "$$\\text{Eq 1:}\\;\\;\\; 2x^2 + y + z = 1$$\n",
    "$$\\text{Eq 2:}\\;\\;\\; x + 2y + z = c_1$$\n",
    "$$\\text{Eq 3:}\\;\\;\\; -2x + y = -z$$\n",
    "\n",
    "The actual solution set to the above set of equations is:\n",
    "- $x = -\\frac{1}{2} + \\frac{\\sqrt{3}}{2}$\n",
    "- $y = c_1 - \\frac{3\\sqrt{3}}{2} + \\frac{3}{2}$\n",
    "- $z = -c_1 - \\frac{5}{2} + \\frac{5\\sqrt{3}}{2}$\n",
    "\n",
    "and a second solution:\n",
    "- $x = -\\frac{1}{2} - \\frac{\\sqrt{3}}{2}$\n",
    "- $y = c_1 + \\frac{3\\sqrt{3}}{2} + \\frac{3}{2}$\n",
    "- $z = -c_1 - \\frac{5}{2} - \\frac{5\\sqrt{3}}{2}$\n",
    "\n",
    "Let's solve this system with `SymPy` and see what happens."
   ]
  },
  {
   "cell_type": "code",
   "execution_count": 7,
   "id": "5b7499c8",
   "metadata": {},
   "outputs": [
    {
     "name": "stdout",
     "output_type": "stream",
     "text": [
      "[(-1/2 + sqrt(3)/2, c1 - 3*sqrt(3)/2 + 3/2, -c1 - 5/2 + 5*sqrt(3)/2), (-sqrt(3)/2 - 1/2, c1 + 3/2 + 3*sqrt(3)/2, -c1 - 5*sqrt(3)/2 - 5/2)]\n"
     ]
    }
   ],
   "source": [
    "x,y,z = sym.symbols('x,y,z')\n",
    "#notice that we must specify this new variable differently from the others, once we're not solving the system for it\n",
    "c1 = sym.Symbol('c1') \n",
    "\n",
    "eq1 = sym.Eq(2*x**2+y+z,1)\n",
    "eq2 = sym.Eq(x+2*y+z,c1)\n",
    "eq3 = sym.Eq(-2*x+y,-z)\n",
    "result = sym.solve([eq1,eq2,eq3],(x,y,z))\n",
    "print(result)"
   ]
  }
 ],
 "metadata": {
  "kernelspec": {
   "display_name": "Python 3 (ipykernel)",
   "language": "python",
   "name": "python3"
  },
  "language_info": {
   "codemirror_mode": {
    "name": "ipython",
    "version": 3
   },
   "file_extension": ".py",
   "mimetype": "text/x-python",
   "name": "python",
   "nbconvert_exporter": "python",
   "pygments_lexer": "ipython3",
   "version": "3.9.7"
  }
 },
 "nbformat": 4,
 "nbformat_minor": 5
}
